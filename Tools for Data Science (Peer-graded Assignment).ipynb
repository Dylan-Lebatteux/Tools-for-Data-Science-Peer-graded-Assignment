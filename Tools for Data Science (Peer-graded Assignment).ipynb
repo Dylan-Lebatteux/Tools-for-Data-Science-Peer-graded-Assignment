{
 "cells": [
  {
   "cell_type": "markdown",
   "id": "ffbeb462-0e0f-42fd-9243-eb43ba7de843",
   "metadata": {},
   "source": [
    "# Peer-graded Assignment Notebook"
   ]
  },
  {
   "cell_type": "markdown",
   "id": "1631a4bd-3e8d-45a1-af3d-a4dd38f9c08a",
   "metadata": {},
   "source": [
    "## Introduction\n",
    "\n",
    "Lorem ipsum dolor sit amet, consectetur adipiscing elit. Sed do eiusmod tempor incididunt ut labore et dolore magna aliqua. Ut enim ad minim veniam, quis nostrud exercitation ullamco laboris nisi ut aliquip ex ea commodo consequat."
   ]
  },
  {
   "cell_type": "markdown",
   "id": "12b38f8b-b9ca-47bd-a2b8-dcdae42264e4",
   "metadata": {},
   "source": [
    "## Data Science Languages\n",
    "\n",
    "Lorem ipsum dolor sit amet, consectetur adipiscing elit. Sed do eiusmod tempor incididunt ut labore et dolore magna aliqua. Ut enim ad minim veniam, quis nostrud exercitation ullamco laboris nisi ut aliquip ex ea commodo consequat.\n",
    "\n",
    "1. Python\n",
    "2. R\n",
    "3. Scala"
   ]
  },
  {
   "cell_type": "markdown",
   "id": "290fa1fd-e51c-4d7e-91ba-c7ffcc7705f6",
   "metadata": {},
   "source": [
    "## Data Science Libraries\n",
    "\n",
    "Lorem ipsum dolor sit amet, consectetur adipiscing elit. Sed do eiusmod tempor incididunt ut labore et dolore magna aliqua. Ut enim ad minim veniam, quis nostrud exercitation ullamco laboris nisi ut aliquip ex ea commodo consequat.\n",
    "\n",
    "1. Pandas\n",
    "2. NumPy\n",
    "3. Scikit-learn\n",
    "4. Matplotlib\n",
    "5. Seaborn"
   ]
  },
  {
   "cell_type": "markdown",
   "id": "aa493a1d-b22b-49b9-ae46-b36322bf11eb",
   "metadata": {},
   "source": [
    "##  Table of Data Science tools\n",
    "\n",
    "| Data Science Tools|\n",
    "|-------------------|\n",
    "| Jupyter Notebook  |\n",
    "| RStudio           |\n",
    "| VS Code           |\n",
    "|Anaconda Navigator |"
   ]
  },
  {
   "cell_type": "markdown",
   "id": "06861195-b967-4d6f-aeb1-85497ffc03a4",
   "metadata": {},
   "source": [
    "### Below are a few examples of evaluating arithmetic expressions in Python:\n",
    "```python\n",
    "# Addition\n",
    "2 + 3  # Result: 5\n",
    "\n",
    "# Subtraction\n",
    "9 - 5  # Result: 4\n",
    "\n",
    "# Multiplication \n",
    "2 * 4  # Result: 8\n",
    "\n",
    "# Division\n",
    "10 / 2  # Result: 5.0\n",
    "```"
   ]
  },
  {
   "cell_type": "code",
   "execution_count": 2,
   "id": "2dd6c671-1416-4a42-b4f4-305dfc6ca462",
   "metadata": {},
   "outputs": [
    {
     "data": {
      "text/plain": [
       "17"
      ]
     },
     "execution_count": 2,
     "metadata": {},
     "output_type": "execute_result"
    }
   ],
   "source": [
    "# Multiply and add numbers\n",
    "(3 * 4) + 5"
   ]
  },
  {
   "cell_type": "code",
   "execution_count": 3,
   "id": "0333028d-4846-4a31-bcc7-dba9dd3a89bb",
   "metadata": {},
   "outputs": [
    {
     "data": {
      "text/plain": [
       "3.3333333333333335"
      ]
     },
     "execution_count": 3,
     "metadata": {},
     "output_type": "execute_result"
    }
   ],
   "source": [
    "# This will convert 200 minutes to hours by dividing by 60\n",
    "200 / 60"
   ]
  },
  {
   "cell_type": "markdown",
   "id": "8ea2e8e2-2737-4825-b540-07647371f8ad",
   "metadata": {},
   "source": [
    "## Unordered list\n",
    "\n",
    "Lorem ipsum dolor sit amet, consectetur adipiscing elit. Sed do eiusmod tempor incididunt ut labore et dolore magna aliqua. Ut enim ad minim veniam, quis nostrud exercitation ullamco laboris nisi ut aliquip ex ea commodo consequat.\n",
    "\n",
    "- Item 1\n",
    "- Item 2\n",
    "- Item 3\n",
    "- Item 4"
   ]
  },
  {
   "cell_type": "markdown",
   "id": "bef9c014-42a8-4c3b-aa4d-451e723afdd9",
   "metadata": {},
   "source": [
    "## Author\n",
    "\n",
    "Dylan Lebatteux"
   ]
  }
 ],
 "metadata": {
  "kernelspec": {
   "display_name": "Python 3 (ipykernel)",
   "language": "python",
   "name": "python3"
  },
  "language_info": {
   "codemirror_mode": {
    "name": "ipython",
    "version": 3
   },
   "file_extension": ".py",
   "mimetype": "text/x-python",
   "name": "python",
   "nbconvert_exporter": "python",
   "pygments_lexer": "ipython3",
   "version": "3.13.5"
  }
 },
 "nbformat": 4,
 "nbformat_minor": 5
}
